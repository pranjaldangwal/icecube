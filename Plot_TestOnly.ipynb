{
 "cells": [
  {
   "cell_type": "code",
   "execution_count": 1,
   "metadata": {},
   "outputs": [],
   "source": [
    "# import sys\n",
    "# !{sys.executable} -m pip install h5py"
   ]
  },
  {
   "cell_type": "code",
   "execution_count": 2,
   "metadata": {},
   "outputs": [],
   "source": [
    "import h5py\n",
    "import numpy as np\n",
    "import sklearn\n",
    "import seaborn as sns\n",
    "import pandas as pd"
   ]
  },
  {
   "cell_type": "code",
   "execution_count": 3,
   "metadata": {},
   "outputs": [],
   "source": [
    "# #TUTORIAL1\n",
    "# import numpy as np\n",
    "\n",
    "# matrix1 = np.random.random(size=(1000,1000))\n",
    "# matrix2 = np.random.random(size=(1000,100))\n",
    "\n",
    "# with h5py.File(r'C:\\Users\\Richard\\Desktop\\Summer20\\hdf5_data.h5', 'w') as hdf:\n",
    "#     hdf.create_dataset('ds1', data=matrix1)\n",
    "#     hdf.create_dataset('ds2', data=matrix2)"
   ]
  },
  {
   "cell_type": "code",
   "execution_count": 4,
   "metadata": {},
   "outputs": [],
   "source": [
    "# #TUTORIAL2\n",
    "# with h5py.File(r'C:\\Users\\Richard\\Desktop\\Summer20\\hdf5_data.h5', 'r') as hdf:\n",
    "#     ls = list(hdf.keys())\n",
    "#     print('list of datasets:',ls)\n",
    "#     data = hdf.get('ds1')\n",
    "#     dataset1 = np.array(data)\n",
    "#     print('shape of ds1:',dataset1.shape)\n",
    "# dataset1"
   ]
  },
  {
   "cell_type": "code",
   "execution_count": 5,
   "metadata": {},
   "outputs": [
    {
     "name": "stdout",
     "output_type": "stream",
     "text": [
      "['Y_predicted', 'Y_test_use']\n"
     ]
    }
   ],
   "source": [
    "#REAL DATA\n",
    "\n",
    "filename = \"prediction_values130_from100.hdf5\" \n",
    "f = h5py.File(filename, 'r')\n",
    "ls = list(f.keys())\n",
    "print(ls)"
   ]
  },
  {
   "cell_type": "code",
   "execution_count": 6,
   "metadata": {},
   "outputs": [
    {
     "name": "stdout",
     "output_type": "stream",
     "text": [
      "[[0.56282866]\n",
      " [1.4788425 ]\n",
      " [0.41716197]\n",
      " ...\n",
      " [0.40085894]\n",
      " [1.6144621 ]\n",
      " [0.4649277 ]]\n",
      "Shape of prediction array is: (82274, 1)\n"
     ]
    }
   ],
   "source": [
    "Y_pred = f.get('Y_predicted')\n",
    "Y_pred_arr = np.array(Y_pred)\n",
    "print(Y_pred_arr)\n",
    "print(\"Shape of prediction array is:\",Y_pred_arr.shape)"
   ]
  },
  {
   "cell_type": "code",
   "execution_count": 7,
   "metadata": {},
   "outputs": [
    {
     "name": "stdout",
     "output_type": "stream",
     "text": [
      "[[ 0.4119359   0.3516154   0.8124185  ... 14.          1.\n",
      "   1.        ]\n",
      " [ 0.94737625  0.0544763   1.6872201  ... 14.          0.\n",
      "   1.        ]\n",
      " [ 0.3789892   0.05468129  0.         ... 12.          0.\n",
      "   1.        ]\n",
      " ...\n",
      " [ 0.40877926 -0.8701986   0.         ... 12.          0.\n",
      "   1.        ]\n",
      " [ 0.9613775  -0.64704305  1.3266437  ... 14.          1.\n",
      "   1.        ]\n",
      " [ 0.14396195  0.93052197  0.         ... 12.          1.\n",
      "   1.        ]]\n"
     ]
    }
   ],
   "source": [
    "Y_test = f.get('Y_test_use')\n",
    "Y_test_arr = np.array(Y_test)\n",
    "print(Y_test_arr)"
   ]
  },
  {
   "cell_type": "code",
   "execution_count": 8,
   "metadata": {},
   "outputs": [
    {
     "name": "stdout",
     "output_type": "stream",
     "text": [
      "shape of Y_test_use array is: (82274, 12)\n"
     ]
    }
   ],
   "source": [
    "print(\"shape of Y_test_use array is:\", Y_test_arr.shape)"
   ]
  },
  {
   "cell_type": "code",
   "execution_count": 9,
   "metadata": {},
   "outputs": [],
   "source": [
    "# print(list(Y_test.keys()))\n",
    "# print(list(Y_pred.keys()))"
   ]
  },
  {
   "cell_type": "code",
   "execution_count": 10,
   "metadata": {},
   "outputs": [
    {
     "name": "stdout",
     "output_type": "stream",
     "text": [
      "[1. 1. 0. ... 0. 1. 0.]\n",
      "(82274,)\n"
     ]
    }
   ],
   "source": [
    "#accessing 8th column of Y_test_use\n",
    "Y_test_col = Y_test_arr[:,8]\n",
    "\n",
    "print(Y_test_col)\n",
    "print(Y_test_col.shape)"
   ]
  },
  {
   "cell_type": "markdown",
   "metadata": {},
   "source": [
    "# CONVERT TO BINARY BASED ON THRESHOLD ARRAY (SKLEARN.ROC_CURVE)"
   ]
  },
  {
   "cell_type": "code",
   "execution_count": 11,
   "metadata": {},
   "outputs": [],
   "source": [
    "#changing predicted output to binary\n",
    "\n",
    "\n",
    "# Y_pred_bin = np.array([])\n",
    "\n",
    "# for i in range(0,82274):\n",
    "#     if Y_pred_arr[i] >= 0.4625:\n",
    "#         Y_pred_bin = np.append(Y_pred_bin,1)\n",
    "#     elif Y_pred_arr[i] < 0.4625:\n",
    "#         Y_pred_bin = np.append(Y_pred_bin, 0)\n",
    "#     else:\n",
    "#         print('error')\n",
    "\n",
    "# print(Y_pred_bin.shape)\n",
    "# print(Y_pred_bin)"
   ]
  },
  {
   "cell_type": "code",
   "execution_count": 12,
   "metadata": {},
   "outputs": [
    {
     "ename": "NameError",
     "evalue": "name 'Y_pred_bin' is not defined",
     "output_type": "error",
     "traceback": [
      "\u001b[1;31m---------------------------------------------------------------------------\u001b[0m",
      "\u001b[1;31mNameError\u001b[0m                                 Traceback (most recent call last)",
      "\u001b[1;32m<ipython-input-12-7fdf9a9ddbda>\u001b[0m in \u001b[0;36m<module>\u001b[1;34m\u001b[0m\n\u001b[0;32m      2\u001b[0m \u001b[1;33m\u001b[0m\u001b[0m\n\u001b[0;32m      3\u001b[0m \u001b[1;32mfor\u001b[0m \u001b[0mi\u001b[0m \u001b[1;32min\u001b[0m \u001b[0mrange\u001b[0m\u001b[1;33m(\u001b[0m\u001b[1;36m0\u001b[0m\u001b[1;33m,\u001b[0m\u001b[1;36m82274\u001b[0m\u001b[1;33m)\u001b[0m\u001b[1;33m:\u001b[0m\u001b[1;33m\u001b[0m\u001b[1;33m\u001b[0m\u001b[0m\n\u001b[1;32m----> 4\u001b[1;33m     \u001b[1;32mif\u001b[0m \u001b[0mY_pred_bin\u001b[0m\u001b[1;33m[\u001b[0m\u001b[0mi\u001b[0m\u001b[1;33m]\u001b[0m \u001b[1;33m==\u001b[0m \u001b[0mY_test_col\u001b[0m\u001b[1;33m[\u001b[0m\u001b[0mi\u001b[0m\u001b[1;33m]\u001b[0m\u001b[1;33m:\u001b[0m\u001b[1;33m\u001b[0m\u001b[1;33m\u001b[0m\u001b[0m\n\u001b[0m\u001b[0;32m      5\u001b[0m         \u001b[0mn\u001b[0m \u001b[1;33m+=\u001b[0m \u001b[1;36m1\u001b[0m\u001b[1;33m\u001b[0m\u001b[1;33m\u001b[0m\u001b[0m\n\u001b[0;32m      6\u001b[0m \u001b[1;33m\u001b[0m\u001b[0m\n",
      "\u001b[1;31mNameError\u001b[0m: name 'Y_pred_bin' is not defined"
     ]
    }
   ],
   "source": [
    "n=0\n",
    "\n",
    "for i in range(0,82274):\n",
    "    if Y_pred_bin[i] == Y_test_col[i]:\n",
    "        n += 1 \n",
    "\n",
    "print(n)\n",
    "print(n/82274)"
   ]
  },
  {
   "cell_type": "code",
   "execution_count": 13,
   "metadata": {},
   "outputs": [],
   "source": [
    "#Plotting ROC curve\n",
    "import numpy as np\n",
    "import matplotlib.pyplot as plt\n",
    "from itertools import cycle\n",
    "\n",
    "from sklearn import svm, datasets\n",
    "from sklearn.metrics import roc_curve, auc\n",
    "from sklearn.model_selection import train_test_split\n",
    "from sklearn.preprocessing import label_binarize\n",
    "from sklearn.multiclass import OneVsRestClassifier\n",
    "from scipy import interp\n",
    "from sklearn.metrics import roc_auc_score\n",
    "\n",
    "# import scikitplot as skplt\n",
    "\n",
    "# y_true = Y_test_col\n",
    "# y_probas = # predicted probabilities generated by sklearn classifier\n",
    "# skplt.metrics.plot_roc_curve(y_true, y_probas)\n",
    "# plt.show()\n"
   ]
  },
  {
   "cell_type": "markdown",
   "metadata": {},
   "source": [
    "\n",
    " False Positive. Predict an event when there was no event. (predicting 1 when actually 0)\n",
    " False Negative. Predict no event when in fact there was an event.(predicting 0 when actually 1)\n",
    "\n",
    " It is a plot of the false positive rate (x-axis) versus the true positive rate (y-axis)\n",
    " for a number of different candidate threshold values between 0.0 and 1.0. Put another way,\n",
    " it plots the false alarm rate versus the hit rate.\n",
    " \n",
    " True Positive Rate = True Positives / (True Positives + False Negatives)\n",
    " \n",
    " False Positive Rate = False Positives / (False Positives + True Negatives)"
   ]
  },
  {
   "cell_type": "code",
   "execution_count": 14,
   "metadata": {},
   "outputs": [],
   "source": [
    "# Y_test_col[41]\n",
    "# for i in range(0,82274):\n",
    "#     if Y_test_col[i] == 1:\n",
    "#         Y_test_col[i] = True\n",
    "#     else:\n",
    "#         Y_test_col[i] = False\n",
    "# print(Y_test_col)"
   ]
  },
  {
   "cell_type": "code",
   "execution_count": 15,
   "metadata": {},
   "outputs": [
    {
     "name": "stdout",
     "output_type": "stream",
     "text": [
      "[0.         0.         0.         ... 0.99997581 0.99997581 1.        ] \n",
      " \n",
      " [0.00000000e+00 2.44319570e-05 4.66406059e-02 ... 9.99975568e-01\n",
      " 1.00000000e+00 1.00000000e+00] \n",
      " \n",
      " [ 1.5076688e+01  1.4076688e+01  1.2108037e+00 ... -2.1520538e+02\n",
      " -3.4101544e+02 -4.2790386e+03]\n"
     ]
    }
   ],
   "source": [
    "fpr, tpr, thresholds = roc_curve(Y_test_col, Y_pred_arr)\n",
    "print(fpr ,'\\n \\n', tpr,'\\n \\n', thresholds)"
   ]
  },
  {
   "cell_type": "code",
   "execution_count": 16,
   "metadata": {},
   "outputs": [
    {
     "name": "stdout",
     "output_type": "stream",
     "text": [
      "AUC: 0.724\n",
      "0.7236639355594843\n"
     ]
    }
   ],
   "source": [
    "auc = roc_auc_score(Y_test_col, Y_pred_arr)\n",
    "print('AUC: %.3f' % auc)\n",
    "print(auc)"
   ]
  },
  {
   "cell_type": "code",
   "execution_count": 18,
   "metadata": {},
   "outputs": [
    {
     "name": "stdout",
     "output_type": "stream",
     "text": [
      "[0.         0.         0.         ... 0.99997581 0.99997581 1.        ] [0.00000000e+00 2.44319570e-05 4.66406059e-02 ... 9.99975568e-01\n",
      " 1.00000000e+00 1.00000000e+00]\n",
      "34225\n",
      "0.7236639355594843\n"
     ]
    },
    {
     "data": {
      "image/png": "[encoded data removed]",
      "text/plain": [
       "<Figure size 504x504 with 1 Axes>"
      ]
     },
     "metadata": {
      "needs_background": "light"
     },
     "output_type": "display_data"
    }
   ],
   "source": [
    "\n",
    "fpr, tpr, thresholds = roc_curve(Y_test_col, Y_pred_arr)\n",
    "print(fpr,tpr)\n",
    "# roc_auc = auc(fpr, tpr)\n",
    "print(len(thresholds))\n",
    "\n",
    "print (roc_auc_score(Y_test_col, Y_pred_arr))\n",
    "\n",
    "\n",
    "plt.figure(figsize=(7,7))\n",
    "\n",
    "x_noskill=np.linspace(0,1,50)\n",
    "y_noskill=np.linspace(0,1,50)\n",
    "\n",
    "plt.plot(x_noskill,y_noskill)\n",
    "plt.plot(fpr, tpr, marker='.', markersize=1)\n",
    "\n",
    "plt.xlim([0.0, 1.0])\n",
    "plt.ylim([0.0, 1.0])\n",
    "plt.xlabel('False Positive Rate')\n",
    "plt.ylabel('True Positive Rate')\n",
    "plt.title('Receiver operating characteristic')\n",
    "\n",
    "plt.show()\n",
    "\n",
    "\n"
   ]
  },
  {
   "cell_type": "code",
   "execution_count": 19,
   "metadata": {},
   "outputs": [
    {
     "name": "stdout",
     "output_type": "stream",
     "text": [
      "(82274, 1)\n"
     ]
    },
    {
     "ename": "IndexError",
     "evalue": "index 82274 is out of bounds for axis 0 with size 82274",
     "output_type": "error",
     "traceback": [
      "\u001b[1;31m---------------------------------------------------------------------------\u001b[0m",
      "\u001b[1;31mIndexError\u001b[0m                                Traceback (most recent call last)",
      "\u001b[1;32m<ipython-input-19-264c6d4a1693>\u001b[0m in \u001b[0;36m<module>\u001b[1;34m\u001b[0m\n\u001b[0;32m      5\u001b[0m \u001b[0mY_pred_bin\u001b[0m \u001b[1;33m=\u001b[0m \u001b[0mnp\u001b[0m\u001b[1;33m.\u001b[0m\u001b[0marray\u001b[0m\u001b[1;33m(\u001b[0m\u001b[1;33m[\u001b[0m\u001b[1;33m]\u001b[0m\u001b[1;33m)\u001b[0m\u001b[1;33m\u001b[0m\u001b[1;33m\u001b[0m\u001b[0m\n\u001b[0;32m      6\u001b[0m \u001b[1;32mfor\u001b[0m \u001b[0mi\u001b[0m \u001b[1;32min\u001b[0m \u001b[0mrange\u001b[0m\u001b[1;33m(\u001b[0m\u001b[1;36m0\u001b[0m\u001b[1;33m,\u001b[0m\u001b[1;36m393853\u001b[0m\u001b[1;33m)\u001b[0m\u001b[1;33m:\u001b[0m\u001b[1;33m\u001b[0m\u001b[1;33m\u001b[0m\u001b[0m\n\u001b[1;32m----> 7\u001b[1;33m     \u001b[1;32mif\u001b[0m \u001b[0mY_pred_arr\u001b[0m\u001b[1;33m[\u001b[0m\u001b[0mi\u001b[0m\u001b[1;33m]\u001b[0m \u001b[1;33m<\u001b[0m\u001b[1;36m0.45\u001b[0m\u001b[1;33m:\u001b[0m\u001b[1;33m\u001b[0m\u001b[1;33m\u001b[0m\u001b[0m\n\u001b[0m\u001b[0;32m      8\u001b[0m         \u001b[0mY_pred_bin\u001b[0m \u001b[1;33m=\u001b[0m \u001b[0mnp\u001b[0m\u001b[1;33m.\u001b[0m\u001b[0mappend\u001b[0m\u001b[1;33m(\u001b[0m\u001b[0mY_pred_bin\u001b[0m\u001b[1;33m,\u001b[0m \u001b[1;32mFalse\u001b[0m\u001b[1;33m)\u001b[0m\u001b[1;33m\u001b[0m\u001b[1;33m\u001b[0m\u001b[0m\n\u001b[0;32m      9\u001b[0m     \u001b[1;32melif\u001b[0m \u001b[0mY_pred_arr\u001b[0m\u001b[1;33m[\u001b[0m\u001b[0mi\u001b[0m\u001b[1;33m]\u001b[0m \u001b[1;33m>=\u001b[0m \u001b[1;36m0.45\u001b[0m\u001b[1;33m:\u001b[0m\u001b[1;33m\u001b[0m\u001b[1;33m\u001b[0m\u001b[0m\n",
      "\u001b[1;31mIndexError\u001b[0m: index 82274 is out of bounds for axis 0 with size 82274"
     ]
    }
   ],
   "source": [
    "#import sklearn\n",
    "from sklearn.metrics import confusion_matrix\n",
    "from sklearn.preprocessing import normalize\n",
    "print(Y_pred_arr.shape)\n",
    "Y_pred_bin = np.array([])\n",
    "for i in range(0,393853):\n",
    "    if Y_pred_arr[i] <0.45:\n",
    "        Y_pred_bin = np.append(Y_pred_bin, False)\n",
    "    elif Y_pred_arr[i] >= 0.45:\n",
    "        Y_pred_bin = np.append(Y_pred_bin,True)\n",
    "\n",
    "print(Y_pred_bin.shape)\n",
    "print(Y_test_col.shape)\n",
    "# normalize:{'true', 'pred','all'}\n",
    "# type(normalize)\n",
    "\n",
    "conf_mat = sklearn.metrics.confusion_matrix(Y_test_col, Y_pred_bin)\n",
    "# cm = conf_mat\n",
    "# conf_mat = cm.astype('float') / cm.sum(axis=1)[:, np.newaxis]\n",
    "print(conf_mat)\n",
    "auc = roc_auc_score(Y_test_col, Y_pred_arr)\n",
    "print('AUC: %.3f' % auc)\n",
    "print(auc)"
   ]
  },
  {
   "cell_type": "code",
   "execution_count": null,
   "metadata": {},
   "outputs": [],
   "source": [
    "# tn, fp, fn, tp = confusion_matrix(Y_test_col, Y_pred_bin).ravel()\n",
    "# tn, fp, fn, tp\n",
    "\n",
    "# conf_array = [tn, fp, fn, tp]\n",
    "# normed_conf = conf_array / np.linalg.norm(conf_array)\n",
    "# # norm2 = normalize(x[:,np.newaxis], axis=0).ravel()\n",
    "# print(normed_conf)"
   ]
  },
  {
   "cell_type": "code",
   "execution_count": null,
   "metadata": {},
   "outputs": [],
   "source": [
    "\n",
    "\n",
    "data = {'Y_test_col':Y_test_col, 'Y_pred_bin':Y_pred_bin}\n",
    "df = pd.DataFrame(data, columns=['Y_test_col', 'Y_pred_bin'])\n",
    "confusion_matrix = pd.crosstab(df['Y_test_col'], df['Y_pred_bin'], rownames=['Actual'], colnames=['Predicted'])\n",
    "print(confusion_matrix)\n",
    "# normed_conf = confusion_matrix\n",
    "# normed_conf_2d = [[normed_conf[0], normed_conf[1]], [normed_conf[2],normed_conf[3]]]\n",
    "# print(normed_conf_2d)\n",
    "sns.heatmap(conf_mat, cmap = 'YlGnBu')\n",
    "\n",
    "plt.tight_layout()\n",
    "plt.show()\n",
    "conf_mat\n"
   ]
  },
  {
   "cell_type": "markdown",
   "metadata": {},
   "source": [
    "# Normalize as vector or should the array elements sum to 1?"
   ]
  },
  {
   "cell_type": "code",
   "execution_count": 20,
   "metadata": {},
   "outputs": [
    {
     "name": "stdout",
     "output_type": "stream",
     "text": [
      "[0.    0.025 0.05  0.075 0.1   0.125 0.15  0.175 0.2   0.225 0.25  0.275\n",
      " 0.3   0.325 0.35  0.375 0.4   0.425 0.45  0.475 0.5   0.525 0.55  0.575\n",
      " 0.6   0.625 0.65  0.675 0.7   0.725 0.75  0.775 0.8   0.825 0.85  0.875\n",
      " 0.9   0.925 0.95  0.975 1.   ]\n"
     ]
    }
   ],
   "source": [
    "def create_bin_arr(num, ran = np.array([0,1])):\n",
    "    \n",
    "    bins = np.array([])\n",
    "    n = 0\n",
    "    add = np.max(ran)/num\n",
    "    \n",
    "    for i in range(num+1):\n",
    "        bins = np.append(bins, n)\n",
    "        n += add\n",
    "    \n",
    "    return bins\n",
    "\n",
    "bins = create_bin_arr(40,[0,1])\n",
    "print(bins)"
   ]
  },
  {
   "cell_type": "code",
   "execution_count": 21,
   "metadata": {},
   "outputs": [
    {
     "data": {
      "text/plain": [
       "Text(0, 0.5, 'freq')"
      ]
     },
     "execution_count": 21,
     "metadata": {},
     "output_type": "execute_result"
    },
    {
     "data": {
      "image/png": "[encoded data removed]",
      "text/plain": [
       "<Figure size 432x288 with 1 Axes>"
      ]
     },
     "metadata": {
      "needs_background": "light"
     },
     "output_type": "display_data"
    }
   ],
   "source": [
    "plt.hist(Y_pred_arr, bins = bins,  range = (0,1))\n",
    "plt.title('#Events vs Prob')\n",
    "plt.xlabel('prob')\n",
    "plt.ylabel('freq')"
   ]
  },
  {
   "cell_type": "code",
   "execution_count": 22,
   "metadata": {},
   "outputs": [],
   "source": [
    "# #Attempting to change threshhold \n",
    "\n",
    "# Y_pred_bin = np.array([])\n",
    "\n",
    "# for i in range(0,82274):\n",
    "#     if Y_pred_arr[i] > 0.5:\n",
    "#         Y_pred_bin = np.append(Y_pred_bin,1)\n",
    "#     elif Y_pred_arr[i] <= 0.5:\n",
    "#         Y_pred_bin = np.append(Y_pred_bin, 0)\n",
    "#     else:\n",
    "#         print('error')\n",
    "\n",
    "# print(Y_pred_bin.shape)\n",
    "# print(Y_pred_bin)\n",
    "\n",
    "# n=0\n",
    "# for i in range(0,82274):\n",
    "#     if Y_pred_bin[i] == Y_test_col[i]:\n",
    "#         n += 1 \n",
    "# print(n)\n",
    "# print(n/82274)\n",
    "\n",
    "\n",
    "# # tn, fp, fn, tp = confusion_matrix(Y_test_col, Y_pred_bin).ravel()\n",
    "# # tn, fp, fn, tp\n",
    "\n",
    "# conf_array = [tn, fp, fn, tp]\n",
    "# normed_conf = conf_array / np.linalg.norm(conf_array)\n",
    "# # norm2 = normalize(x[:,np.newaxis], axis=0).ravel()\n",
    "# print(normed_conf)"
   ]
  },
  {
   "cell_type": "markdown",
   "metadata": {},
   "source": [
    " Points of discussion: \n",
    "1) Does the sklearn function, confusion_matrix, assign a thresshold on its own or does it use 0.5?\n",
    " 2) Separating the peaks\n",
    " 3) for conf_mat elements, Normalize as vector or should the array elements sum to 1?\n",
    "4) Map epochs-validation loss graph- how\n",
    "5) Training the network reports 3 different loss values. Training on 1 variable so 1 loss expected. Reason for discrepancy?  \n",
    "\n",
    "\n"
   ]
  },
  {
   "cell_type": "code",
   "execution_count": 23,
   "metadata": {},
   "outputs": [],
   "source": [
    "import h5py\n",
    "import numpy as np\n",
    "import sklearn\n",
    "import seaborn as sns\n",
    "import pandas as pd\n",
    "\n",
    "import numpy as np\n",
    "import matplotlib.pyplot as plt\n",
    "%matplotlib inline\n",
    "from itertools import cycle\n",
    "\n",
    "from sklearn import svm, datasets\n",
    "from sklearn.metrics import roc_curve, auc\n",
    "from sklearn.model_selection import train_test_split\n",
    "from sklearn.preprocessing import label_binarize\n",
    "from sklearn.multiclass import OneVsRestClassifier\n",
    "from scipy import interp\n",
    "from sklearn.metrics import roc_auc_score\n",
    "from sklearn.metrics import confusion_matrix\n",
    "\n",
    "def plot_testonly(start, end, ROC = True, confusion_matrix = False, ):\n",
    "    \n",
    "    n_array = np.array([])\n",
    "    roc_nums_array = np.array([])\n",
    "    auc_array = np.array([])\n",
    "    \n",
    "    for i in range(int(start), int(end)):\n",
    "        epoch = str(2*i)\n",
    "        filename = \"prediction_values%s.hdf5\"%(epoch)\n",
    "        f = h5py.File(filename, 'r')\n",
    "        ls = list(f.keys())\n",
    "        print(ls)\n",
    "        \n",
    "        Y_pred = f.get('Y_predicted')\n",
    "        Y_pred_arr = np.array(Y_pred)\n",
    "        \n",
    "        Y_test = f.get('Y_test_use')\n",
    "        Y_test_arr = np.array(Y_test)\n",
    "        Y_test_col = Y_test_arr[:,8]\n",
    "        \n",
    "#         n=0\n",
    "#         for i in range(0,82274):\n",
    "#             if Y_pred_bin[i] == Y_test_col[i]:\n",
    "#                 n += 1 \n",
    "#         n_array = np.append(n_array, n)\n",
    "        \n",
    "        fpr, tpr, thresholds = roc_curve(Y_test_col, Y_pred_arr)\n",
    "        roc_nums = np.array([fpr, tpr, thresholds])\n",
    "        roc_nums_array = np.append(roc_nums_array, roc_nums)\n",
    "        auc = roc_auc_score(Y_test_col, Y_pred_arr)\n",
    "        auc_array = np.append(auc_array, auc)\n",
    "        \n",
    "        if ROC == True:\n",
    "            roc_plot = plt.figure(figsize=(7,7))\n",
    "\n",
    "            x_noskill=np.linspace(0,1,50)\n",
    "            y_noskill=np.linspace(0,1,50)\n",
    "\n",
    "            plt.plot(x_noskill,y_noskill)\n",
    "            plt.plot(fpr, tpr, marker='.', markersize=1)\n",
    "\n",
    "            plt.xlim([0.0, 1.0])\n",
    "            plt.ylim([0.0, 1.0])\n",
    "            plt.xlabel('False Positive Rate')\n",
    "            plt.ylabel('True Positive Rate')\n",
    "            plt.title('ROC at %s epochs'%(epoch))\n",
    "            plt.savefig('ROC%s.png'%(epoch))\n",
    "            plt.close()\n",
    "            \n",
    "        #CONVERT TO BINARY BASED ON THE THRESHOLD ARRAY\n",
    "        if confusion_matrix == True:\n",
    "            conf_mat = sklearn.metrics.confusion_matrix(Y_test_col, Y_pred_bin)\n",
    "            conf_mat\n",
    "            data = {'Y_test_col':Y_test_col, 'Y_pred_bin':Y_pred_bin}\n",
    "            df = pd.DataFrame(data, columns=['Y_test_col', 'Y_pred_bin'])\n",
    "            confusion_matrix = pd.crosstab(df['Y_test_col'], df['Y_pred_bin'], rownames=['Actual'], colnames=['Predicted'])\n",
    "            print(confusion_matrix)\n",
    "            confmat_plot = sns.heatmap(confusion_matrix, annot=True, cmap = 'YlGnBu')\n",
    "        \n",
    "        print(epoch)          \n",
    "\n",
    "    return n_array, roc_nums_array, auc_array"
   ]
  },
  {
   "cell_type": "code",
   "execution_count": 24,
   "metadata": {},
   "outputs": [
    {
     "ename": "OSError",
     "evalue": "Unable to open file (unable to open file: name = 'prediction_values2.hdf5', errno = 2, error message = 'No such file or directory', flags = 0, o_flags = 0)",
     "output_type": "error",
     "traceback": [
      "\u001b[1;31m---------------------------------------------------------------------------\u001b[0m",
      "\u001b[1;31mOSError\u001b[0m                                   Traceback (most recent call last)",
      "\u001b[1;32m<ipython-input-24-9310b12c7e7c>\u001b[0m in \u001b[0;36m<module>\u001b[1;34m\u001b[0m\n\u001b[1;32m----> 1\u001b[1;33m \u001b[0mar1\u001b[0m\u001b[1;33m,\u001b[0m \u001b[0mar2\u001b[0m\u001b[1;33m,\u001b[0m \u001b[0mar3\u001b[0m \u001b[1;33m=\u001b[0m \u001b[0mplot_testonly\u001b[0m\u001b[1;33m(\u001b[0m\u001b[1;36m1\u001b[0m\u001b[1;33m,\u001b[0m\u001b[1;36m78\u001b[0m\u001b[1;33m)\u001b[0m\u001b[1;33m\u001b[0m\u001b[1;33m\u001b[0m\u001b[0m\n\u001b[0m",
      "\u001b[1;32m<ipython-input-23-4067f7557639>\u001b[0m in \u001b[0;36mplot_testonly\u001b[1;34m(start, end, ROC, confusion_matrix)\u001b[0m\n\u001b[0;32m     28\u001b[0m         \u001b[0mepoch\u001b[0m \u001b[1;33m=\u001b[0m \u001b[0mstr\u001b[0m\u001b[1;33m(\u001b[0m\u001b[1;36m2\u001b[0m\u001b[1;33m*\u001b[0m\u001b[0mi\u001b[0m\u001b[1;33m)\u001b[0m\u001b[1;33m\u001b[0m\u001b[1;33m\u001b[0m\u001b[0m\n\u001b[0;32m     29\u001b[0m         \u001b[0mfilename\u001b[0m \u001b[1;33m=\u001b[0m \u001b[1;34m\"prediction_values%s.hdf5\"\u001b[0m\u001b[1;33m%\u001b[0m\u001b[1;33m(\u001b[0m\u001b[0mepoch\u001b[0m\u001b[1;33m)\u001b[0m\u001b[1;33m\u001b[0m\u001b[1;33m\u001b[0m\u001b[0m\n\u001b[1;32m---> 30\u001b[1;33m         \u001b[0mf\u001b[0m \u001b[1;33m=\u001b[0m \u001b[0mh5py\u001b[0m\u001b[1;33m.\u001b[0m\u001b[0mFile\u001b[0m\u001b[1;33m(\u001b[0m\u001b[0mfilename\u001b[0m\u001b[1;33m,\u001b[0m \u001b[1;34m'r'\u001b[0m\u001b[1;33m)\u001b[0m\u001b[1;33m\u001b[0m\u001b[1;33m\u001b[0m\u001b[0m\n\u001b[0m\u001b[0;32m     31\u001b[0m         \u001b[0mls\u001b[0m \u001b[1;33m=\u001b[0m \u001b[0mlist\u001b[0m\u001b[1;33m(\u001b[0m\u001b[0mf\u001b[0m\u001b[1;33m.\u001b[0m\u001b[0mkeys\u001b[0m\u001b[1;33m(\u001b[0m\u001b[1;33m)\u001b[0m\u001b[1;33m)\u001b[0m\u001b[1;33m\u001b[0m\u001b[1;33m\u001b[0m\u001b[0m\n\u001b[0;32m     32\u001b[0m         \u001b[0mprint\u001b[0m\u001b[1;33m(\u001b[0m\u001b[0mls\u001b[0m\u001b[1;33m)\u001b[0m\u001b[1;33m\u001b[0m\u001b[1;33m\u001b[0m\u001b[0m\n",
      "\u001b[1;32m~\\Anaconda3\\lib\\site-packages\\h5py\\_hl\\files.py\u001b[0m in \u001b[0;36m__init__\u001b[1;34m(self, name, mode, driver, libver, userblock_size, swmr, rdcc_nslots, rdcc_nbytes, rdcc_w0, track_order, **kwds)\u001b[0m\n\u001b[0;32m    392\u001b[0m                 fid = make_fid(name, mode, userblock_size,\n\u001b[0;32m    393\u001b[0m                                \u001b[0mfapl\u001b[0m\u001b[1;33m,\u001b[0m \u001b[0mfcpl\u001b[0m\u001b[1;33m=\u001b[0m\u001b[0mmake_fcpl\u001b[0m\u001b[1;33m(\u001b[0m\u001b[0mtrack_order\u001b[0m\u001b[1;33m=\u001b[0m\u001b[0mtrack_order\u001b[0m\u001b[1;33m)\u001b[0m\u001b[1;33m,\u001b[0m\u001b[1;33m\u001b[0m\u001b[1;33m\u001b[0m\u001b[0m\n\u001b[1;32m--> 394\u001b[1;33m                                swmr=swmr)\n\u001b[0m\u001b[0;32m    395\u001b[0m \u001b[1;33m\u001b[0m\u001b[0m\n\u001b[0;32m    396\u001b[0m             \u001b[1;32mif\u001b[0m \u001b[0mswmr_support\u001b[0m\u001b[1;33m:\u001b[0m\u001b[1;33m\u001b[0m\u001b[1;33m\u001b[0m\u001b[0m\n",
      "\u001b[1;32m~\\Anaconda3\\lib\\site-packages\\h5py\\_hl\\files.py\u001b[0m in \u001b[0;36mmake_fid\u001b[1;34m(name, mode, userblock_size, fapl, fcpl, swmr)\u001b[0m\n\u001b[0;32m    168\u001b[0m         \u001b[1;32mif\u001b[0m \u001b[0mswmr\u001b[0m \u001b[1;32mand\u001b[0m \u001b[0mswmr_support\u001b[0m\u001b[1;33m:\u001b[0m\u001b[1;33m\u001b[0m\u001b[1;33m\u001b[0m\u001b[0m\n\u001b[0;32m    169\u001b[0m             \u001b[0mflags\u001b[0m \u001b[1;33m|=\u001b[0m \u001b[0mh5f\u001b[0m\u001b[1;33m.\u001b[0m\u001b[0mACC_SWMR_READ\u001b[0m\u001b[1;33m\u001b[0m\u001b[1;33m\u001b[0m\u001b[0m\n\u001b[1;32m--> 170\u001b[1;33m         \u001b[0mfid\u001b[0m \u001b[1;33m=\u001b[0m \u001b[0mh5f\u001b[0m\u001b[1;33m.\u001b[0m\u001b[0mopen\u001b[0m\u001b[1;33m(\u001b[0m\u001b[0mname\u001b[0m\u001b[1;33m,\u001b[0m \u001b[0mflags\u001b[0m\u001b[1;33m,\u001b[0m \u001b[0mfapl\u001b[0m\u001b[1;33m=\u001b[0m\u001b[0mfapl\u001b[0m\u001b[1;33m)\u001b[0m\u001b[1;33m\u001b[0m\u001b[1;33m\u001b[0m\u001b[0m\n\u001b[0m\u001b[0;32m    171\u001b[0m     \u001b[1;32melif\u001b[0m \u001b[0mmode\u001b[0m \u001b[1;33m==\u001b[0m \u001b[1;34m'r+'\u001b[0m\u001b[1;33m:\u001b[0m\u001b[1;33m\u001b[0m\u001b[1;33m\u001b[0m\u001b[0m\n\u001b[0;32m    172\u001b[0m         \u001b[0mfid\u001b[0m \u001b[1;33m=\u001b[0m \u001b[0mh5f\u001b[0m\u001b[1;33m.\u001b[0m\u001b[0mopen\u001b[0m\u001b[1;33m(\u001b[0m\u001b[0mname\u001b[0m\u001b[1;33m,\u001b[0m \u001b[0mh5f\u001b[0m\u001b[1;33m.\u001b[0m\u001b[0mACC_RDWR\u001b[0m\u001b[1;33m,\u001b[0m \u001b[0mfapl\u001b[0m\u001b[1;33m=\u001b[0m\u001b[0mfapl\u001b[0m\u001b[1;33m)\u001b[0m\u001b[1;33m\u001b[0m\u001b[1;33m\u001b[0m\u001b[0m\n",
      "\u001b[1;32mh5py\\_objects.pyx\u001b[0m in \u001b[0;36mh5py._objects.with_phil.wrapper\u001b[1;34m()\u001b[0m\n",
      "\u001b[1;32mh5py\\_objects.pyx\u001b[0m in \u001b[0;36mh5py._objects.with_phil.wrapper\u001b[1;34m()\u001b[0m\n",
      "\u001b[1;32mh5py\\h5f.pyx\u001b[0m in \u001b[0;36mh5py.h5f.open\u001b[1;34m()\u001b[0m\n",
      "\u001b[1;31mOSError\u001b[0m: Unable to open file (unable to open file: name = 'prediction_values2.hdf5', errno = 2, error message = 'No such file or directory', flags = 0, o_flags = 0)"
     ]
    }
   ],
   "source": [
    "ar1, ar2, ar3 = plot_testonly(1,78)"
   ]
  },
  {
   "cell_type": "code",
   "execution_count": 25,
   "metadata": {},
   "outputs": [
    {
     "ename": "NameError",
     "evalue": "name 'ar1' is not defined",
     "output_type": "error",
     "traceback": [
      "\u001b[1;31m---------------------------------------------------------------------------\u001b[0m",
      "\u001b[1;31mNameError\u001b[0m                                 Traceback (most recent call last)",
      "\u001b[1;32m<ipython-input-25-f76a09630ab0>\u001b[0m in \u001b[0;36m<module>\u001b[1;34m\u001b[0m\n\u001b[1;32m----> 1\u001b[1;33m \u001b[0mn_array\u001b[0m \u001b[1;33m=\u001b[0m \u001b[0mar1\u001b[0m\u001b[1;33m\u001b[0m\u001b[1;33m\u001b[0m\u001b[0m\n\u001b[0m\u001b[0;32m      2\u001b[0m \u001b[0mroc_nums_array\u001b[0m \u001b[1;33m=\u001b[0m \u001b[0mar2\u001b[0m\u001b[1;33m\u001b[0m\u001b[1;33m\u001b[0m\u001b[0m\n\u001b[0;32m      3\u001b[0m \u001b[0mauc_array\u001b[0m \u001b[1;33m=\u001b[0m \u001b[0mar3\u001b[0m\u001b[1;33m\u001b[0m\u001b[1;33m\u001b[0m\u001b[0m\n\u001b[0;32m      4\u001b[0m \u001b[1;33m\u001b[0m\u001b[0m\n\u001b[0;32m      5\u001b[0m \u001b[0mprint\u001b[0m\u001b[1;33m(\u001b[0m\u001b[0mnp\u001b[0m\u001b[1;33m.\u001b[0m\u001b[0mmax\u001b[0m\u001b[1;33m(\u001b[0m\u001b[0mauc_array\u001b[0m\u001b[1;33m)\u001b[0m\u001b[1;33m)\u001b[0m\u001b[1;33m\u001b[0m\u001b[1;33m\u001b[0m\u001b[0m\n",
      "\u001b[1;31mNameError\u001b[0m: name 'ar1' is not defined"
     ]
    }
   ],
   "source": [
    "n_array = ar1\n",
    "roc_nums_array = ar2\n",
    "auc_array = ar3\n",
    "\n",
    "print(np.max(auc_array))\n",
    "print(np.argmax(auc_array)+1)\n"
   ]
  },
  {
   "cell_type": "code",
   "execution_count": 26,
   "metadata": {},
   "outputs": [
    {
     "ename": "NameError",
     "evalue": "name 'auc_array' is not defined",
     "output_type": "error",
     "traceback": [
      "\u001b[1;31m---------------------------------------------------------------------------\u001b[0m",
      "\u001b[1;31mNameError\u001b[0m                                 Traceback (most recent call last)",
      "\u001b[1;32m<ipython-input-26-cbc6d1ce76c3>\u001b[0m in \u001b[0;36m<module>\u001b[1;34m\u001b[0m\n\u001b[1;32m----> 1\u001b[1;33m \u001b[0mauc_array\u001b[0m\u001b[1;33m\u001b[0m\u001b[1;33m\u001b[0m\u001b[0m\n\u001b[0m",
      "\u001b[1;31mNameError\u001b[0m: name 'auc_array' is not defined"
     ]
    }
   ],
   "source": [
    "auc_array"
   ]
  },
  {
   "cell_type": "code",
   "execution_count": 27,
   "metadata": {},
   "outputs": [
    {
     "ename": "NameError",
     "evalue": "name 'auc_array' is not defined",
     "output_type": "error",
     "traceback": [
      "\u001b[1;31m---------------------------------------------------------------------------\u001b[0m",
      "\u001b[1;31mNameError\u001b[0m                                 Traceback (most recent call last)",
      "\u001b[1;32m<ipython-input-27-5648cdf8a1b3>\u001b[0m in \u001b[0;36m<module>\u001b[1;34m\u001b[0m\n\u001b[0;32m      1\u001b[0m \u001b[0mplt\u001b[0m\u001b[1;33m.\u001b[0m\u001b[0mfigure\u001b[0m\u001b[1;33m(\u001b[0m\u001b[0mfigsize\u001b[0m\u001b[1;33m=\u001b[0m\u001b[1;33m(\u001b[0m\u001b[1;36m10\u001b[0m\u001b[1;33m,\u001b[0m\u001b[1;36m10\u001b[0m\u001b[1;33m)\u001b[0m\u001b[1;33m)\u001b[0m\u001b[1;33m\u001b[0m\u001b[1;33m\u001b[0m\u001b[0m\n\u001b[1;32m----> 2\u001b[1;33m \u001b[0mplt\u001b[0m\u001b[1;33m.\u001b[0m\u001b[0mplot\u001b[0m\u001b[1;33m(\u001b[0m\u001b[0mnp\u001b[0m\u001b[1;33m.\u001b[0m\u001b[0mlinspace\u001b[0m\u001b[1;33m(\u001b[0m\u001b[1;36m2\u001b[0m\u001b[1;33m,\u001b[0m\u001b[1;36m154\u001b[0m\u001b[1;33m,\u001b[0m \u001b[1;36m77\u001b[0m\u001b[1;33m)\u001b[0m\u001b[1;33m,\u001b[0m \u001b[0mauc_array\u001b[0m\u001b[1;33m)\u001b[0m\u001b[1;33m\u001b[0m\u001b[1;33m\u001b[0m\u001b[0m\n\u001b[0m\u001b[0;32m      3\u001b[0m \u001b[0mplt\u001b[0m\u001b[1;33m.\u001b[0m\u001b[0mxlabel\u001b[0m\u001b[1;33m(\u001b[0m\u001b[1;34m'Epochs'\u001b[0m\u001b[1;33m)\u001b[0m\u001b[1;33m\u001b[0m\u001b[1;33m\u001b[0m\u001b[0m\n\u001b[0;32m      4\u001b[0m \u001b[0mplt\u001b[0m\u001b[1;33m.\u001b[0m\u001b[0mylabel\u001b[0m\u001b[1;33m(\u001b[0m\u001b[1;34m'Area Under Curve'\u001b[0m\u001b[1;33m)\u001b[0m\u001b[1;33m\u001b[0m\u001b[1;33m\u001b[0m\u001b[0m\n\u001b[0;32m      5\u001b[0m \u001b[0mplt\u001b[0m\u001b[1;33m.\u001b[0m\u001b[0mtitle\u001b[0m\u001b[1;33m(\u001b[0m\u001b[1;34m'AUC vs Epochs'\u001b[0m\u001b[1;33m)\u001b[0m\u001b[1;33m\u001b[0m\u001b[1;33m\u001b[0m\u001b[0m\n",
      "\u001b[1;31mNameError\u001b[0m: name 'auc_array' is not defined"
     ]
    },
    {
     "data": {
      "text/plain": [
       "<Figure size 720x720 with 0 Axes>"
      ]
     },
     "metadata": {},
     "output_type": "display_data"
    }
   ],
   "source": [
    "plt.figure(figsize=(10,10))\n",
    "plt.plot(np.linspace(2,154, 77), auc_array)\n",
    "plt.xlabel('Epochs')\n",
    "plt.ylabel('Area Under Curve')\n",
    "plt.title('AUC vs Epochs')"
   ]
  },
  {
   "cell_type": "code",
   "execution_count": null,
   "metadata": {},
   "outputs": [],
   "source": [
    "plt.plot(np.linspace(2,154,77), auc_array)"
   ]
  },
  {
   "cell_type": "code",
   "execution_count": 1,
   "metadata": {},
   "outputs": [
    {
     "name": "stdout",
     "output_type": "stream",
     "text": [
      "yes\n"
     ]
    }
   ],
   "source": [
    "if 1<=2:\n",
    "    print('yes')"
   ]
  },
  {
   "cell_type": "code",
   "execution_count": 3,
   "metadata": {},
   "outputs": [
    {
     "name": "stdout",
     "output_type": "stream",
     "text": [
      "1\n",
      "2\n",
      "3\n",
      "4\n"
     ]
    }
   ],
   "source": [
    "n=4\n",
    "for i in range(1,n+1):\n",
    "    print(i)"
   ]
  },
  {
   "cell_type": "code",
   "execution_count": 13,
   "metadata": {},
   "outputs": [
    {
     "ename": "SyntaxError",
     "evalue": "EOL while scanning string literal (<ipython-input-13-6aff83baba93>, line 1)",
     "output_type": "error",
     "traceback": [
      "\u001b[1;36m  File \u001b[1;32m\"<ipython-input-13-6aff83baba93>\"\u001b[1;36m, line \u001b[1;32m1\u001b[0m\n\u001b[1;33m    print('X_test_use_%''%n)\u001b[0m\n\u001b[1;37m                            ^\u001b[0m\n\u001b[1;31mSyntaxError\u001b[0m\u001b[1;31m:\u001b[0m EOL while scanning string literal\n"
     ]
    }
   ],
   "source": [
    "print('X_test_use_%'%n)"
   ]
  },
  {
   "cell_type": "code",
   "execution_count": null,
   "metadata": {},
   "outputs": [],
   "source": []
  }
 ],
 "metadata": {
  "kernelspec": {
   "display_name": "Python 3",
   "language": "python",
   "name": "python3"
  },
  "language_info": {
   "codemirror_mode": {
    "name": "ipython",
    "version": 3
   },
   "file_extension": ".py",
   "mimetype": "text/x-python",
   "name": "python",
   "nbconvert_exporter": "python",
   "pygments_lexer": "ipython3",
   "version": "3.7.4"
  }
 },
 "nbformat": 4,
 "nbformat_minor": 2
}
