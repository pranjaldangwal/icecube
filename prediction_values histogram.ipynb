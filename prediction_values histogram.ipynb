{
 "cells": [
  {
   "cell_type": "code",
   "execution_count": 12,
   "metadata": {},
   "outputs": [],
   "source": [
    "import h5py\n",
    "import numpy as np\n",
    "import sklearn\n",
    "import matplotlib.pyplot as plt"
   ]
  },
  {
   "cell_type": "code",
   "execution_count": 15,
   "metadata": {},
   "outputs": [
    {
     "name": "stdout",
     "output_type": "stream",
     "text": [
      "['Y_predicted', 'Y_test_use']\n"
     ]
    }
   ],
   "source": [
    "filename = \"prediction_values130_from100.hdf5\" \n",
    "f = h5py.File(filename, 'r')\n",
    "ls = list(f.keys())\n",
    "print(ls)"
   ]
  },
  {
   "cell_type": "code",
   "execution_count": 16,
   "metadata": {},
   "outputs": [
    {
     "name": "stdout",
     "output_type": "stream",
     "text": [
      "[[0.56282866]\n",
      " [1.4788425 ]\n",
      " [0.41716197]\n",
      " ...\n",
      " [0.40085894]\n",
      " [1.6144621 ]\n",
      " [0.4649277 ]]\n",
      "Shape of prediction array is: (82274, 1)\n"
     ]
    }
   ],
   "source": [
    "Y_pred = f.get('Y_predicted')\n",
    "Y_pred_arr = np.array(Y_pred)\n",
    "print(Y_pred_arr)\n",
    "print(\"Shape of prediction array is:\",Y_pred_arr.shape)"
   ]
  },
  {
   "cell_type": "code",
   "execution_count": 17,
   "metadata": {},
   "outputs": [
    {
     "name": "stdout",
     "output_type": "stream",
     "text": [
      "shape of Y_test_use array is: (82274, 12)\n"
     ]
    }
   ],
   "source": [
    "Y_test = f.get('Y_test_use')\n",
    "Y_test_arr = np.array(Y_test)\n",
    "# print(Y_test_arr)\n",
    "print(\"shape of Y_test_use array is:\", Y_test_arr.shape)"
   ]
  },
  {
   "cell_type": "code",
   "execution_count": 18,
   "metadata": {},
   "outputs": [],
   "source": [
    "# print(list(Y_test.keys()))\n",
    "# print(list(Y_pred.keys()))"
   ]
  },
  {
   "cell_type": "code",
   "execution_count": 19,
   "metadata": {},
   "outputs": [
    {
     "name": "stdout",
     "output_type": "stream",
     "text": [
      "[1. 1. 0. ... 0. 1. 0.]\n",
      "(82274,)\n"
     ]
    }
   ],
   "source": [
    "#accessing 8th column of Y_test_use\n",
    "Y_test_col = Y_test_arr[:,8]\n",
    "\n",
    "print(Y_test_col)\n",
    "print(Y_test_col.shape)"
   ]
  },
  {
   "cell_type": "code",
   "execution_count": 20,
   "metadata": {},
   "outputs": [],
   "source": [
    "#creating false and true INDEXING arrays\n",
    "def create_index(Y_test_col):\n",
    "    false_index_arr = np.array([])\n",
    "    true_index_arr = np.array([])\n",
    "    for i in range(82274):\n",
    "        if Y_test_col[i] == 0:\n",
    "            false_index_arr = np.append(false_index_arr, i)\n",
    "        elif Y_test_col[i] == 1:\n",
    "            true_index_arr = np.append(true_index_arr, i)\n",
    "        else:\n",
    "            print('Error: non-binary entry')\n",
    "            \n",
    "    false_index_arr = false_index_arr.astype(int)\n",
    "    true_index_arr = true_index_arr.astype(int)\n",
    "    \n",
    "    return false_index_arr, true_index_arr"
   ]
  },
  {
   "cell_type": "code",
   "execution_count": 21,
   "metadata": {},
   "outputs": [],
   "source": [
    "# false_index_arr = false_index_arr.astype(int)\n",
    "# true_index_arr = true_index_arr.astype(int)"
   ]
  },
  {
   "cell_type": "code",
   "execution_count": 22,
   "metadata": {},
   "outputs": [],
   "source": [
    "# # np.set_printoptions(threshold=np.inf)\n",
    "# # print(false_index_arr)\n",
    "# print(false_index_arr)"
   ]
  },
  {
   "cell_type": "code",
   "execution_count": 23,
   "metadata": {},
   "outputs": [],
   "source": [
    "#extracting false and true prob arrays from Y_pred_arr\n",
    "def prob_arrays(Y_pred_arr, false_index_arr, true_index_arr):\n",
    "    false_probs = np.array([])\n",
    "    for i in false_index_arr:\n",
    "        false_probs = np.append(false_probs, Y_pred_arr[int(i)])\n",
    "\n",
    "    true_probs = np.array([])\n",
    "    for i in true_index_arr:\n",
    "        true_probs = np.append(true_probs, Y_pred_arr[int(i)])\n",
    "\n",
    "    return false_probs, true_probs"
   ]
  },
  {
   "cell_type": "code",
   "execution_count": 24,
   "metadata": {},
   "outputs": [],
   "source": [
    "#creating bins func\n",
    "\n",
    "def create_bin_arr(num, ran = np.array([0,1])):\n",
    "    bins = np.array([])\n",
    "    n = 0\n",
    "    add = np.max(ran)/num\n",
    "    for i in range(num+1):\n",
    "        bins = np.append(bins, n)\n",
    "        n += add\n",
    "    return bins\n",
    "\n",
    "bins = create_bin_arr(400)\n",
    "# print(bins)"
   ]
  },
  {
   "cell_type": "code",
   "execution_count": 25,
   "metadata": {},
   "outputs": [],
   "source": [
    "# plotting histogram\n",
    "def plot_save(false_probs, true_probs, bins, epoch, show = False, grid = False):\n",
    "    plt.figure(1, figsize = (10,10))\n",
    "    plt.hist(true_probs, bins,  range = (0,1), alpha = 0.6, color = 'blue', label = 'track')\n",
    "    plt.hist(false_probs, bins,  range = (0,1), alpha = 0.6,  color = 'orange', label = 'cascade')\n",
    "    plt.title('Track and Cascade Probability Frequencies at Epoch %s'%(epoch))\n",
    "    plt.ylabel('frequency')\n",
    "    plt.xlabel('probability')\n",
    "    plt.legend()\n",
    "    if grid == True:\n",
    "        plt.grid()\n",
    "    if show == True:\n",
    "        plt.show()\n",
    "    plt.savefig('hist%s'%(epoch))\n",
    "    \n",
    "    plt.close()\n",
    "    \n",
    "    return True"
   ]
  },
  {
   "cell_type": "code",
   "execution_count": null,
   "metadata": {},
   "outputs": [],
   "source": []
  },
  {
   "cell_type": "code",
   "execution_count": 26,
   "metadata": {},
   "outputs": [],
   "source": [
    "def get_arrays(f):\n",
    "    Y_pred = f.get('Y_predicted')\n",
    "    Y_pred_arr = np.array(Y_pred)\n",
    "        \n",
    "    Y_test = f.get('Y_test_use')\n",
    "    Y_test_arr = np.array(Y_test)\n",
    "    Y_test_col = Y_test_arr[:,8]\n",
    "    \n",
    "    return Y_pred_arr, Y_test_col\n",
    "\n",
    "\n",
    "\n",
    "def plot_hists(end, start=1, bins = bins):\n",
    "    for i in range(start, end):\n",
    "        epoch = str(2*i)\n",
    "        filename = \"prediction_values%s.hdf5\"%(epoch)\n",
    "        f = h5py.File(filename, 'r')\n",
    "        ls = list(f.keys())\n",
    "        print(ls)\n",
    "        \n",
    "        Y_pred_arr, Y_test_col = get_arrays(f)\n",
    "        \n",
    "        false_index_arr, true_index_arr = create_index(Y_test_col)\n",
    "        \n",
    "        false_probs, true_probs = prob_arrays(Y_pred_arr, false_index_arr, true_index_arr)\n",
    "        \n",
    "        plot_save(false_probs, true_probs, bins, epoch)\n",
    "        \n",
    "    return True"
   ]
  },
  {
   "cell_type": "code",
   "execution_count": 27,
   "metadata": {},
   "outputs": [
    {
     "name": "stdout",
     "output_type": "stream",
     "text": [
      "['Y_predicted', 'Y_test_use']\n"
     ]
    },
    {
     "data": {
      "image/png": "[encoded data removed]",
      "text/plain": [
       "<Figure size 720x720 with 1 Axes>"
      ]
     },
     "metadata": {
      "needs_background": "light"
     },
     "output_type": "display_data"
    },
    {
     "data": {
      "text/plain": [
       "True"
      ]
     },
     "execution_count": 27,
     "metadata": {},
     "output_type": "execute_result"
    }
   ],
   "source": [
    "epoch = 130\n",
    "filename = \"prediction_values130_from100.hdf5\"\n",
    "f = h5py.File(filename, 'r')\n",
    "ls = list(f.keys())\n",
    "print(ls)\n",
    "        \n",
    "Y_pred_arr, Y_test_col = get_arrays(f)\n",
    "        \n",
    "false_index_arr, true_index_arr = create_index(Y_test_col)\n",
    "        \n",
    "false_probs, true_probs = prob_arrays(Y_pred_arr, false_index_arr, true_index_arr)\n",
    "        \n",
    "plot_save(false_probs, true_probs, bins, epoch, show=True)"
   ]
  },
  {
   "cell_type": "code",
   "execution_count": 28,
   "metadata": {},
   "outputs": [
    {
     "ename": "NameError",
     "evalue": "name 'auc_array' is not defined",
     "output_type": "error",
     "traceback": [
      "\u001b[1;31m---------------------------------------------------------------------------\u001b[0m",
      "\u001b[1;31mNameError\u001b[0m                                 Traceback (most recent call last)",
      "\u001b[1;32m<ipython-input-28-8a15d0b4af2c>\u001b[0m in \u001b[0;36m<module>\u001b[1;34m\u001b[0m\n\u001b[1;32m----> 1\u001b[1;33m \u001b[0mplt\u001b[0m\u001b[1;33m.\u001b[0m\u001b[0mplot\u001b[0m\u001b[1;33m(\u001b[0m\u001b[0mnp\u001b[0m\u001b[1;33m.\u001b[0m\u001b[0mlinspace\u001b[0m\u001b[1;33m(\u001b[0m\u001b[1;36m0\u001b[0m\u001b[1;33m,\u001b[0m\u001b[1;36m154\u001b[0m\u001b[1;33m,\u001b[0m \u001b[1;36m77\u001b[0m\u001b[1;33m)\u001b[0m\u001b[1;33m,\u001b[0m \u001b[0mauc_array\u001b[0m\u001b[1;33m)\u001b[0m\u001b[1;33m\u001b[0m\u001b[1;33m\u001b[0m\u001b[0m\n\u001b[0m",
      "\u001b[1;31mNameError\u001b[0m: name 'auc_array' is not defined"
     ]
    }
   ],
   "source": [
    "plt.plot(np.linspace(0,154, 77), auc_array)"
   ]
  },
  {
   "cell_type": "code",
   "execution_count": 3,
   "metadata": {},
   "outputs": [
    {
     "name": "stdout",
     "output_type": "stream",
     "text": [
      "[0.20382433 0.6810389  0.73575285 0.85212291 0.88150458]\n"
     ]
    }
   ],
   "source": [
    "import numpy as np\n",
    "A = np.random.random(5)\n",
    "print(A)"
   ]
  },
  {
   "cell_type": "code",
   "execution_count": 7,
   "metadata": {},
   "outputs": [
    {
     "name": "stdout",
     "output_type": "stream",
     "text": [
      "[0.6810389  0.73575285 0.85212291 0.88150458]\n"
     ]
    }
   ],
   "source": [
    "mask = A > 0.5 \n",
    "A1 = A[mask]\n",
    "print(A1)"
   ]
  },
  {
   "cell_type": "markdown",
   "metadata": {},
   "source": []
  },
  {
   "cell_type": "code",
   "execution_count": null,
   "metadata": {},
   "outputs": [],
   "source": []
  }
 ],
 "metadata": {
  "kernelspec": {
   "display_name": "Python 3",
   "language": "python",
   "name": "python3"
  },
  "language_info": {
   "codemirror_mode": {
    "name": "ipython",
    "version": 3
   },
   "file_extension": ".py",
   "mimetype": "text/x-python",
   "name": "python",
   "nbconvert_exporter": "python",
   "pygments_lexer": "ipython3",
   "version": "3.7.4"
  }
 },
 "nbformat": 4,
 "nbformat_minor": 2
}
